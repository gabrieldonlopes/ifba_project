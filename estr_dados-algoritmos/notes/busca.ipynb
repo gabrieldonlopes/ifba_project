{
 "cells": [
  {
   "cell_type": "markdown",
   "metadata": {},
   "source": [
    "### Linear Search\n",
    "Abordagem mais simples, que percorre toda lista até obter o termo de busca. Pode ser usada em dados não ordenados, mas é ineficiente em dados muito grandes."
   ]
  },
  {
   "cell_type": "code",
   "execution_count": 37,
   "metadata": {},
   "outputs": [
    {
     "data": {
      "text/plain": [
       "4"
      ]
     },
     "execution_count": 37,
     "metadata": {},
     "output_type": "execute_result"
    }
   ],
   "source": [
    "def linear_search(arr, key):\n",
    "    for i in range(len(arr)):\n",
    "        if (key == arr[i]): \n",
    "            return i\n",
    "    return -1\n",
    "\n",
    "arr = [3, 6, 3, 5, 10]\n",
    "result = linear_search(arr,10)\n",
    "result\n"
   ]
  },
  {
   "cell_type": "markdown",
   "metadata": {},
   "source": [
    "Caso a lista esteja ordenada podemos implementar formas de verificar se o item está na lista antes de percorre-la totalmentte"
   ]
  },
  {
   "cell_type": "code",
   "execution_count": null,
   "metadata": {},
   "outputs": [
    {
     "data": {
      "text/plain": [
       "-1"
      ]
     },
     "execution_count": 40,
     "metadata": {},
     "output_type": "execute_result"
    }
   ],
   "source": [
    "def linear_search2(orded_arr, key):\n",
    "    for i in range(len(orded_arr)):\n",
    "        if (key == orded_arr[i]):\n",
    "            return i\n",
    "        elif (orded_arr[i] > key):\n",
    "            return 0\n",
    "        return -1\n",
    "        \n",
    "arr = [3, 5, 8, 10]\n",
    "result = linear_search2(arr,7)\n",
    "result"
   ]
  },
  {
   "cell_type": "markdown",
   "metadata": {},
   "source": [
    "### Jump Search\n",
    "Algoritmo de busca simples que consiste na divisão dos dados em blocos e a utilização da busca linear nestes blocos. Aumentando a velocidade de busca, \n",
    "mas exigindo que os dados estejam ordenados e dependendo do tamanho dos blocos escolhida (decisão que influência na eficiência do algoritmo)"
   ]
  },
  {
   "cell_type": "code",
   "execution_count": null,
   "metadata": {},
   "outputs": [
    {
     "data": {
      "text/plain": [
       "(9999, 199, 100)"
      ]
     },
     "execution_count": 10,
     "metadata": {},
     "output_type": "execute_result"
    }
   ],
   "source": [
    "import math\n",
    "def jump_search(arr,key):\n",
    "    n = len(arr)\n",
    "    if n == 0:\n",
    "        return None\n",
    "    \n",
    "    block_size = int(math.sqrt(n))\n",
    "    \n",
    "    start = 0\n",
    "    end = block_size\n",
    "    while (end < n) and (arr[end] < key):\n",
    "        start = end\n",
    "        end += block_size # pula para próximo bloco\n",
    "        if (end > n-1):\n",
    "            end = n\n",
    "        \n",
    "        \n",
    "        \n",
    "    for i in range(start, end):\n",
    "        if(arr[i] == key):\n",
    "            return i\n",
    "    return None\n",
    "\n",
    "arr = list(range(1,100))\n",
    "result = jump_search(arr,100)\n",
    "arr[result]"
   ]
  },
  {
   "cell_type": "code",
   "execution_count": 14,
   "metadata": {},
   "outputs": [
    {
     "name": "stdout",
     "output_type": "stream",
     "text": [
      "Number 610 is at index 609\n"
     ]
    }
   ],
   "source": [
    "# Python3 code to implement Jump Search\n",
    "import math\n",
    " \n",
    "def jumpSearch( arr , x , n ):\n",
    "     \n",
    "    # Finding block size to be jumped\n",
    "    step = math.sqrt(n)\n",
    "     \n",
    "    # Finding the block where element is\n",
    "    # present (if it is present)\n",
    "    prev = 0\n",
    "    while arr[int(min(step, n)-1)] < x:\n",
    "        prev = step\n",
    "        step += math.sqrt(n)\n",
    "        if prev >= n:\n",
    "            return -1\n",
    "     \n",
    "    # Doing a linear search for x in \n",
    "    # block beginning with prev.\n",
    "    while arr[int(prev)] < x:\n",
    "        prev += 1\n",
    "         \n",
    "        # If we reached next block or end \n",
    "        # of array, element is not present.\n",
    "        if prev == min(step, n):\n",
    "            return -1\n",
    "     \n",
    "    # If element is found\n",
    "    if arr[int(prev)] == x:\n",
    "        return prev\n",
    "     \n",
    "    return -1\n",
    " \n",
    "# Driver code to test function\n",
    "arr = list(range(1,10001))\n",
    "x = 610\n",
    "n = len(arr)\n",
    " \n",
    "# Find the index of 'x' using Jump Search\n",
    "index = jumpSearch(arr, x, n)\n",
    " \n",
    "# Print the index where 'x' is located\n",
    "print(\"Number\" , x, \"is at index\" ,\"%.0f\"%index)\n",
    " \n",
    "# This code is contributed by \"Sharad_Bhardwaj\"."
   ]
  },
  {
   "cell_type": "markdown",
   "metadata": {},
   "source": [
    "### Divide and Conquer\n",
    "Paradigma de divisão do problema em sub-problemas menores, para resolve-los numa solução mais eficiente.\n",
    "*os dois problemas são resolvidos recursivamente, as soluções parciais são merged para obter a solução final*\n"
   ]
  },
  {
   "cell_type": "markdown",
   "metadata": {},
   "source": [
    "### Binary Search\n",
    "Algoritmo usado para achar determinado elemento dentro de uma lista ordenada. Usa a ideia \"divide-and-conquer\"\n",
    "1. Comparar se o elemento pesquisado(n) está no meio da lista.\n",
    "2. Se n for menor que o elemento do meio, entao metade maior é descartada. Se n for maior que o elemento do meio então a metade menor é descartada.\n",
    "3. O processo se repete recursivamente até encontrar o elemento procurado. "
   ]
  },
  {
   "cell_type": "code",
   "execution_count": 34,
   "metadata": {},
   "outputs": [
    {
     "data": {
      "text/plain": [
       "3"
      ]
     },
     "execution_count": 34,
     "metadata": {},
     "output_type": "execute_result"
    }
   ],
   "source": [
    "def binary_search(arr, start, end, key):\n",
    "    while start <= end:\n",
    "        mid = start + (end - start)//2\n",
    "        if arr[mid] == key:\n",
    "            return mid\n",
    "        elif arr[mid] < key:\n",
    "            start = mid + 1\n",
    "        else:\n",
    "            end = mid - 1\n",
    "    return -1\n",
    "\n",
    "arr = [4, 6, 9, 13, 14, 18, 21, 24, 38]\n",
    "x = 13\n",
    "result = binary_search(arr, 0, len(arr)-1, x)\n",
    "\n",
    "result\n"
   ]
  },
  {
   "cell_type": "markdown",
   "metadata": {},
   "source": [
    "\n",
    "- Podemos perceber que **dobrar o tamanho da lista adiciona apenas 1 busca a mais**.\n",
    "- Para uma lista de **n elementos**, o número de buscas necessárias equivale a **quantas vezes podemos dividir n por 2 até restar apenas 1 elemento**.\n",
    "- Matematicamente, isso é expresso como **\\( \\log_2 n + 1 \\)**.\n",
    "\n",
    "- \\( \\log_2 8 = 3 \\), então o número de buscas necessárias será **\\( 3 + 1 = 4 \\)**.\n",
    "\n",
    "- Como o algoritmo **divide a lista ao meio a cada iteração**, ele segue o princípio da estratégia **\"dividir para conquistar\" (divide-and-conquer)**.\n",
    "- Isso significa que a complexidade de tempo no **pior caso** é **\\( O(log n) \\)**.\n",
    "\n",
    "- A busca binária reduz a lista pela metade a cada tentativa.\n",
    "- O número de buscas no pior caso é log2 n + 1.\n",
    "- Isso faz com que a complexidade do algoritmo seja O(log n), tornando-o muito eficiente para grandes conjuntos de dados.\n",
    "\n"
   ]
  }
 ],
 "metadata": {
  "kernelspec": {
   "display_name": ".venv",
   "language": "python",
   "name": "python3"
  },
  "language_info": {
   "codemirror_mode": {
    "name": "ipython",
    "version": 3
   },
   "file_extension": ".py",
   "mimetype": "text/x-python",
   "name": "python",
   "nbconvert_exporter": "python",
   "pygments_lexer": "ipython3",
   "version": "3.11.2"
  }
 },
 "nbformat": 4,
 "nbformat_minor": 2
}
