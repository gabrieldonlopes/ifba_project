{
 "cells": [
  {
   "cell_type": "markdown",
   "metadata": {},
   "source": [
    "## Sorting \n",
    "Reorganizar dados de uma maneira ascendente ou descendente.\n",
    "Para comparar os métodos de organização utilizamos o tempo e o espaço de memória.\n"
   ]
  },
  {
   "cell_type": "markdown",
   "metadata": {},
   "source": [
    "### Bubble sort\n",
    "Dada uma lista desordenada, nós devemos comparar os elementos adjacentes, depois de cada comparação, nós colocamos ele na ordem correta.\n",
    "A cada iteração o maior elemento é movido ao final da lista, na próxima iteração o segundo maior elemento é colocado no penúltima posição, esse processo é repetido até a lista estiver ordenada."
   ]
  },
  {
   "cell_type": "code",
   "execution_count": null,
   "metadata": {},
   "outputs": [
    {
     "name": "stdout",
     "output_type": "stream",
     "text": [
      "([1, 2, 4, 5, 8, 9, 10, 12, 50, 60], 45)\n"
     ]
    }
   ],
   "source": [
    "def bubble_sort(unordered_list):\n",
    "    iterations = 0 \n",
    "\n",
    "    iteration_number = len(unordered_list)-1\n",
    "    for i in range(iteration_number,0,-1):\n",
    "        for j in range(i):\n",
    "            if unordered_list[j] > unordered_list[j+1]:\n",
    "                temp = unordered_list[j]\n",
    "                unordered_list[j] = unordered_list[j+1]\n",
    "                unordered_list[j+1] = temp\n",
    "            iterations+=1\n",
    "\n",
    "    return unordered_list,iterations\n",
    "\n",
    "arr = [9,5,8,1,4,2]\n",
    "bubble_sort(arr)\n"
   ]
  },
  {
   "cell_type": "markdown",
   "metadata": {},
   "source": [
    "sendo n o tamanho da lista, no pior caso, a quantidade de swaps necessária na primeira iteração é n-1, na segunda n-2, ou seja:$$(n-1)+(n-2)+...+ 1 = \\frac{n(n-1)}{2}\\to O(n²)$$"
   ]
  },
  {
   "cell_type": "markdown",
   "metadata": {},
   "source": [
    "o algoritmo de bubble sort é linear, ou seja, de acordo com a quantidade de dados inserida a complexidade do algoritmo aumenta."
   ]
  },
  {
   "cell_type": "markdown",
   "metadata": {},
   "source": [
    "### Insertion Sort\n",
    "A ideia principal da Insertion sort é manter duas sublistas, uma ordenada e outra desordenada, os elementos são adicionados um a um da lista desordenada para lista ordenada."
   ]
  },
  {
   "cell_type": "markdown",
   "metadata": {},
   "source": [
    "Fixa-se um elemento (key) e ordena os outros linearmente de acordo com sua posição em comparação com a key. Esse comportamento é iterado até a lista estiver completamente ordenada."
   ]
  },
  {
   "cell_type": "code",
   "execution_count": null,
   "metadata": {},
   "outputs": [
    {
     "data": {
      "text/plain": [
       "[2, 3, 4, 5, 8, 9]"
      ]
     },
     "execution_count": 1,
     "metadata": {},
     "output_type": "execute_result"
    }
   ],
   "source": [
    "def insertion_sort(unsorted_list):\n",
    "    for index in range(1,len(unsorted_list)):\n",
    "        search_index = index\n",
    "        insert_value = unsorted_list[index]\n",
    "        while search_index > 0 and unsorted_list[search_index-1] > insert_value:\n",
    "            unsorted_list[search_index] = unsorted_list[search_index-1]\n",
    "            search_index -= 1\n",
    "        unsorted_list[search_index] = insert_value\n",
    "\n",
    "arr = [3,4,8,2,9,5]\n",
    "insertion_sort(arr)\n",
    "arr "
   ]
  },
  {
   "cell_type": "markdown",
   "metadata": {},
   "source": [
    "### Selection Sort\n",
    "A ideia principal é achar o menor elemento e colocar no início da lista, esse processo se repete $(n-1)$ vezes.\n",
    "\n",
    "Não é um processo de ordenação estável, pois, não funciona bem com números iguais e também não se aproveita de ordenações já existentes.\n",
    "\n",
    "O melhor e pior caso do Selection Sort é $O(n²)$\n"
   ]
  },
  {
   "cell_type": "code",
   "execution_count": 6,
   "metadata": {},
   "outputs": [],
   "source": [
    "def selection_sort(unsorted_list):\n",
    "    size_of_list = len(unsorted_list)\n",
    "    for i in range(size_of_list):\n",
    "        small = i\n",
    "        for j in range(i+1, size_of_list):\n",
    "            if unsorted_list[j] < unsorted_list[small]:\n",
    "                small = j\n",
    "        temp = unsorted_list[i]\n",
    "        unsorted_list[i] = unsorted_list[small]\n",
    "        unsorted_list[small] = temp\n"
   ]
  },
  {
   "cell_type": "markdown",
   "metadata": {},
   "source": [
    "### Merge Sort\n",
    "A lista é dividida recursivamente em partes iguais até que cada sublista contenha um elemento. Após isso, as sublistas são combinadas para criar uma nova lista ordenada.\n",
    "Utiliza a Divide-and-Conquer.\n"
   ]
  },
  {
   "cell_type": "code",
   "execution_count": 11,
   "metadata": {},
   "outputs": [
    {
     "data": {
      "text/plain": [
       "[2, 2, 3, 4, 6, 8, 21, 86]"
      ]
     },
     "execution_count": 11,
     "metadata": {},
     "output_type": "execute_result"
    }
   ],
   "source": [
    "import random\n",
    "def merge_sort(unsorted_list):\n",
    "    if len(unsorted_list) == 1:\n",
    "        return unsorted_list\n",
    "    mid_point = int(len(unsorted_list)/2) # arredonda para cima\n",
    "    \n",
    "    # divisão da lista\n",
    "    first_half = unsorted_list[:mid_point] \n",
    "    second_half = unsorted_list[mid_point:]\n",
    "\n",
    "    # chama o método recursivamente\n",
    "    half_a = merge_sort(first_half)\n",
    "    half_b = merge_sort(second_half)\n",
    "\n",
    "    # esse método une as listas novamente\n",
    "    return merge(half_a,half_b)\n",
    "\n",
    "def merge(first_sublist, second_sublist):\n",
    "    i = j = 0\n",
    "    merged_list = []\n",
    "\n",
    "    while i < len(first_sublist) and j < len(second_sublist):\n",
    "        if first_sublist[i] < second_sublist[j]:\n",
    "            merged_list.append(first_sublist[i])\n",
    "            i += 1\n",
    "        else: \n",
    "            merged_list.append(second_sublist[i])\n",
    "            j += 1\n",
    "    while i < len(first_sublist):\n",
    "        merged_list.append(first_sublist[i])\n",
    "        i += 1\n",
    "    while j < len(second_sublist):\n",
    "        merged_list.append(second_sublist[j])\n",
    "        j += 1\n",
    "    return merged_list\n",
    "    \n",
    "\n",
    "numeros_aleatorios = [8,4,2,21,3,6,2,86]\n",
    "lista = merge_sort(numeros_aleatorios)\n",
    "lista\n"
   ]
  },
  {
   "cell_type": "markdown",
   "metadata": {},
   "source": [
    "### Quick Sort\n",
    " "
   ]
  },
  {
   "cell_type": "markdown",
   "metadata": {},
   "source": [
    "Utiliza divisão por conquista através de uma recursão. É semelhante ao merge.\n",
    "Escolhemos um elemento pivô e organizamos a lista em duas sublistas, na sublista da esquerda ficarão os elementos menores que o pivô, e a direita ficarão os elemenotos maiores.\n",
    "\n",
    "Primeiro precisamos comparar o pivô com todos elementos, os menores são colocados na sublista da esquerda e maiores da sublista da direita. Desta forma as sublistas ainda estão desordenadas, no entanto o pivô está na posição correta.\n",
    "\n",
    "Dentro de cada sublista o quick sort é aplicado recursivamente."
   ]
  },
  {
   "cell_type": "markdown",
   "metadata": {},
   "source": [
    "#### Passos do QuickSort:\n",
    "1. Escolhe-se o elemento pivô "
   ]
  },
  {
   "cell_type": "code",
   "execution_count": null,
   "metadata": {},
   "outputs": [],
   "source": [
    "# forma simplficada\n",
    "def quick_sort(list):\n",
    "    if len(list) <= 1:\n",
    "        return list\n",
    "    else:\n",
    "        pivot = list[-1] # esse método é menos eficiente\n",
    "        smaller = [x for x in lista[:-1] if x <= pivot]\n",
    "        greater = [x for x in lista[:-1] if x > pivot]\n",
    "        # reserva muita quantidade de memória para sublista\n",
    "        return quick_sort(smaller) + [pivot] + quick_sort(greater)"
   ]
  },
  {
   "cell_type": "code",
   "execution_count": null,
   "metadata": {},
   "outputs": [],
   "source": [
    "# esse método não exige a criação de sublistas\n",
    "def quick_sort(list, start, end):\n",
    "    if start < end:\n",
    "        \n",
    "        i_pivot = partition(list,start,end)\n",
    "\n",
    "        # passa a sublista dos itens à esquerda \n",
    "        quick_sort(list,start,i_pivot - 1)\n",
    "        # passa a sublista dos itens à direita\n",
    "        quick_sort(list, i_pivot + 1, end)\n",
    "\n",
    "def partition(list,start,end):\n",
    "    pivot = list[start] # pivo escolhido no inicio da listaqa\n",
    "    left = start + 1\n",
    "    right = end\n",
    "\n",
    "    while True:\n",
    "        while left <= right and list[left] <= pivot:\n",
    "            left += 1\n",
    "        while left <= right and list[right] >= pivot:\n",
    "            right -= 1\n",
    "        \n",
    "        if left > right:\n",
    "            break\n",
    "        else:\n",
    "            list[left], list[right] = list[right], list[left]\n",
    "        \n",
    "        list[start], list[right] = list[right], list[start]\n",
    "\n",
    "        return right"
   ]
  }
 ],
 "metadata": {
  "kernelspec": {
   "display_name": "Python (venv)",
   "language": "python",
   "name": "venv"
  },
  "language_info": {
   "codemirror_mode": {
    "name": "ipython",
    "version": 3
   },
   "file_extension": ".py",
   "mimetype": "text/x-python",
   "name": "python",
   "nbconvert_exporter": "python",
   "pygments_lexer": "ipython3",
   "version": "3.11.2"
  }
 },
 "nbformat": 4,
 "nbformat_minor": 2
}
